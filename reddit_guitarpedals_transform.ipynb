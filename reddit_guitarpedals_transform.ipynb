{
 "cells": [
  {
   "cell_type": "code",
   "execution_count": 105,
   "metadata": {},
   "outputs": [],
   "source": [
    "import pandas as pd\n",
    "import numpy as np\n",
    "import matplotlib"
   ]
  },
  {
   "cell_type": "code",
   "execution_count": 106,
   "metadata": {},
   "outputs": [],
   "source": [
    "pedals = pd.read_csv(r'C:\\Users\\roast\\Desktop\\reddit_guitarpedals_1000.csv')"
   ]
  },
  {
   "cell_type": "code",
   "execution_count": 107,
   "metadata": {},
   "outputs": [
    {
     "data": {
      "text/plain": [
       "Index(['subreddit', 'title', 'selftext', 'upvote_ratio', 'ups', 'downs',\n",
       "       'score', 'num_comments', 'created_utc', 'id', 'kind', 'url',\n",
       "       'thumbnail'],\n",
       "      dtype='object')"
      ]
     },
     "execution_count": 107,
     "metadata": {},
     "output_type": "execute_result"
    }
   ],
   "source": [
    "pedals.columns"
   ]
  },
  {
   "cell_type": "code",
   "execution_count": 108,
   "metadata": {},
   "outputs": [
    {
     "data": {
      "text/html": [
       "<div>\n",
       "<style scoped>\n",
       "    .dataframe tbody tr th:only-of-type {\n",
       "        vertical-align: middle;\n",
       "    }\n",
       "\n",
       "    .dataframe tbody tr th {\n",
       "        vertical-align: top;\n",
       "    }\n",
       "\n",
       "    .dataframe thead th {\n",
       "        text-align: right;\n",
       "    }\n",
       "</style>\n",
       "<table border=\"1\" class=\"dataframe\">\n",
       "  <thead>\n",
       "    <tr style=\"text-align: right;\">\n",
       "      <th></th>\n",
       "      <th>subreddit</th>\n",
       "      <th>title</th>\n",
       "      <th>selftext</th>\n",
       "      <th>upvote_ratio</th>\n",
       "      <th>ups</th>\n",
       "      <th>downs</th>\n",
       "      <th>score</th>\n",
       "      <th>num_comments</th>\n",
       "      <th>created_utc</th>\n",
       "      <th>id</th>\n",
       "      <th>kind</th>\n",
       "      <th>url</th>\n",
       "      <th>thumbnail</th>\n",
       "    </tr>\n",
       "  </thead>\n",
       "  <tbody>\n",
       "    <tr>\n",
       "      <th>0</th>\n",
       "      <td>guitarpedals</td>\n",
       "      <td>This is how it looks like seconds before runni...</td>\n",
       "      <td>NaN</td>\n",
       "      <td>0.98</td>\n",
       "      <td>2422</td>\n",
       "      <td>0</td>\n",
       "      <td>2422</td>\n",
       "      <td>242</td>\n",
       "      <td>02/25/2022 12:05:32</td>\n",
       "      <td>t18wvy</td>\n",
       "      <td>t3</td>\n",
       "      <td>https://i.redd.it/d8dzi9jtg0k81.jpg</td>\n",
       "      <td>https://b.thumbs.redditmedia.com/yKuntllpMdK6y...</td>\n",
       "    </tr>\n",
       "    <tr>\n",
       "      <th>1</th>\n",
       "      <td>guitarpedals</td>\n",
       "      <td>Fuck zodiac signs. What's you favourite pedal ...</td>\n",
       "      <td>NaN</td>\n",
       "      <td>0.99</td>\n",
       "      <td>1548</td>\n",
       "      <td>0</td>\n",
       "      <td>1548</td>\n",
       "      <td>380</td>\n",
       "      <td>10/04/2021 21:41:07</td>\n",
       "      <td>q1kkfh</td>\n",
       "      <td>t3</td>\n",
       "      <td>https://i.redd.it/9bnshbgidjr71.jpg</td>\n",
       "      <td>https://b.thumbs.redditmedia.com/2dpv7kkldRTIn...</td>\n",
       "    </tr>\n",
       "    <tr>\n",
       "      <th>2</th>\n",
       "      <td>guitarpedals</td>\n",
       "      <td>Thanks for the hookup Sweetwater</td>\n",
       "      <td>NaN</td>\n",
       "      <td>0.98</td>\n",
       "      <td>1518</td>\n",
       "      <td>0</td>\n",
       "      <td>1518</td>\n",
       "      <td>87</td>\n",
       "      <td>01/16/2022 11:06:18</td>\n",
       "      <td>s5ewxh</td>\n",
       "      <td>t3</td>\n",
       "      <td>https://i.redd.it/frcml2jsp2c81.jpg</td>\n",
       "      <td>https://a.thumbs.redditmedia.com/IzvhIo_5NWc08...</td>\n",
       "    </tr>\n",
       "    <tr>\n",
       "      <th>3</th>\n",
       "      <td>guitarpedals</td>\n",
       "      <td>My sister-in-law made me an awesome pedal pillow.</td>\n",
       "      <td>NaN</td>\n",
       "      <td>1.00</td>\n",
       "      <td>1505</td>\n",
       "      <td>0</td>\n",
       "      <td>1505</td>\n",
       "      <td>62</td>\n",
       "      <td>07/08/2021 10:28:37</td>\n",
       "      <td>og8c5s</td>\n",
       "      <td>t3</td>\n",
       "      <td>https://i.redd.it/2h3bgvkc10a71.jpg</td>\n",
       "      <td>https://b.thumbs.redditmedia.com/BL1uzP7RVySJh...</td>\n",
       "    </tr>\n",
       "    <tr>\n",
       "      <th>4</th>\n",
       "      <td>guitarpedals</td>\n",
       "      <td>NPD. Homemade Rat with 6 band EQ in place of t...</td>\n",
       "      <td>NaN</td>\n",
       "      <td>1.00</td>\n",
       "      <td>1360</td>\n",
       "      <td>0</td>\n",
       "      <td>1360</td>\n",
       "      <td>113</td>\n",
       "      <td>10/31/2021 13:15:33</td>\n",
       "      <td>qju2hx</td>\n",
       "      <td>t3</td>\n",
       "      <td>https://i.imgur.com/nhy2bTR.jpg</td>\n",
       "      <td>https://b.thumbs.redditmedia.com/wVBX_oq1B6-x7...</td>\n",
       "    </tr>\n",
       "  </tbody>\n",
       "</table>\n",
       "</div>"
      ],
      "text/plain": [
       "      subreddit                                              title selftext  \\\n",
       "0  guitarpedals  This is how it looks like seconds before runni...      NaN   \n",
       "1  guitarpedals  Fuck zodiac signs. What's you favourite pedal ...      NaN   \n",
       "2  guitarpedals                   Thanks for the hookup Sweetwater      NaN   \n",
       "3  guitarpedals  My sister-in-law made me an awesome pedal pillow.      NaN   \n",
       "4  guitarpedals  NPD. Homemade Rat with 6 band EQ in place of t...      NaN   \n",
       "\n",
       "   upvote_ratio   ups  downs  score  num_comments          created_utc  \\\n",
       "0          0.98  2422      0   2422           242  02/25/2022 12:05:32   \n",
       "1          0.99  1548      0   1548           380  10/04/2021 21:41:07   \n",
       "2          0.98  1518      0   1518            87  01/16/2022 11:06:18   \n",
       "3          1.00  1505      0   1505            62  07/08/2021 10:28:37   \n",
       "4          1.00  1360      0   1360           113  10/31/2021 13:15:33   \n",
       "\n",
       "       id kind                                  url  \\\n",
       "0  t18wvy   t3  https://i.redd.it/d8dzi9jtg0k81.jpg   \n",
       "1  q1kkfh   t3  https://i.redd.it/9bnshbgidjr71.jpg   \n",
       "2  s5ewxh   t3  https://i.redd.it/frcml2jsp2c81.jpg   \n",
       "3  og8c5s   t3  https://i.redd.it/2h3bgvkc10a71.jpg   \n",
       "4  qju2hx   t3      https://i.imgur.com/nhy2bTR.jpg   \n",
       "\n",
       "                                           thumbnail  \n",
       "0  https://b.thumbs.redditmedia.com/yKuntllpMdK6y...  \n",
       "1  https://b.thumbs.redditmedia.com/2dpv7kkldRTIn...  \n",
       "2  https://a.thumbs.redditmedia.com/IzvhIo_5NWc08...  \n",
       "3  https://b.thumbs.redditmedia.com/BL1uzP7RVySJh...  \n",
       "4  https://b.thumbs.redditmedia.com/wVBX_oq1B6-x7...  "
      ]
     },
     "execution_count": 108,
     "metadata": {},
     "output_type": "execute_result"
    }
   ],
   "source": [
    "pedals.head()"
   ]
  },
  {
   "cell_type": "code",
   "execution_count": 109,
   "metadata": {},
   "outputs": [
    {
     "name": "stdout",
     "output_type": "stream",
     "text": [
      "<class 'pandas.core.frame.DataFrame'>\n",
      "RangeIndex: 1000 entries, 0 to 999\n",
      "Data columns (total 13 columns):\n",
      " #   Column        Non-Null Count  Dtype         \n",
      "---  ------        --------------  -----         \n",
      " 0   subreddit     1000 non-null   object        \n",
      " 1   title         1000 non-null   object        \n",
      " 2   selftext      45 non-null     object        \n",
      " 3   upvote_ratio  1000 non-null   float64       \n",
      " 4   ups           1000 non-null   int64         \n",
      " 5   downs         1000 non-null   int64         \n",
      " 6   score         1000 non-null   int64         \n",
      " 7   num_comments  1000 non-null   int64         \n",
      " 8   created_utc   1000 non-null   datetime64[ns]\n",
      " 9   id            1000 non-null   object        \n",
      " 10  kind          1000 non-null   object        \n",
      " 11  url           1000 non-null   object        \n",
      " 12  thumbnail     1000 non-null   object        \n",
      "dtypes: datetime64[ns](1), float64(1), int64(4), object(7)\n",
      "memory usage: 101.7+ KB\n"
     ]
    }
   ],
   "source": [
    "#Changing dtypes of all columns\n",
    "pedals['created_utc'] = pd.to_datetime(pedals['created_utc'])\n",
    "pedals.info()"
   ]
  },
  {
   "cell_type": "code",
   "execution_count": 41,
   "metadata": {},
   "outputs": [
    {
     "name": "stdout",
     "output_type": "stream",
     "text": [
      "['thanks', 'for', 'the', 'hookup', 'sweetwater', 'this', 'is', 'how', 'it', 'looks', 'like', 'seconds', 'before', 'running', 'to', 'a', 'bomb', 'shelter', 'fuck', 'putin', 'and', 'the', 'aggressor', 'against', 'ukraine']\n",
      "['thanks', 'for', 'the', 'hookup', 'sweetwater', 'this', 'is', 'how', 'it', 'looks', 'like', 'seconds', 'before', 'running', 'to', 'a', 'bomb', 'shelter', 'fuck', 'putin', 'and', 'the', 'aggressor', 'against', 'ukraine', 'fuck', 'zodiac', 'signs', \"what's\", 'you', 'favourite', 'pedal', 'knob', 'and', 'why']\n",
      "['thanks', 'for', 'the', 'hookup', 'sweetwater', 'this', 'is', 'how', 'it', 'looks', 'like', 'seconds', 'before', 'running', 'to', 'a', 'bomb', 'shelter', 'fuck', 'putin', 'and', 'the', 'aggressor', 'against', 'ukraine', 'fuck', 'zodiac', 'signs', \"what's\", 'you', 'favourite', 'pedal', 'knob', 'and', 'why', 'thanks', 'for', 'the', 'hookup', 'sweetwater']\n",
      "['thanks', 'for', 'the', 'hookup', 'sweetwater', 'this', 'is', 'how', 'it', 'looks', 'like', 'seconds', 'before', 'running', 'to', 'a', 'bomb', 'shelter', 'fuck', 'putin', 'and', 'the', 'aggressor', 'against', 'ukraine', 'fuck', 'zodiac', 'signs', \"what's\", 'you', 'favourite', 'pedal', 'knob', 'and', 'why', 'thanks', 'for', 'the', 'hookup', 'sweetwater', 'my', 'sisterinlaw', 'made', 'me', 'an', 'awesome', 'pedal', 'pillow']\n",
      "['thanks', 'for', 'the', 'hookup', 'sweetwater', 'this', 'is', 'how', 'it', 'looks', 'like', 'seconds', 'before', 'running', 'to', 'a', 'bomb', 'shelter', 'fuck', 'putin', 'and', 'the', 'aggressor', 'against', 'ukraine', 'fuck', 'zodiac', 'signs', \"what's\", 'you', 'favourite', 'pedal', 'knob', 'and', 'why', 'thanks', 'for', 'the', 'hookup', 'sweetwater', 'my', 'sisterinlaw', 'made', 'me', 'an', 'awesome', 'pedal', 'pillow', 'npd', 'homemade', 'rat', 'with', '6', 'band', 'eq', 'in', 'place', 'of', 'the', 'filter', 'knob']\n"
     ]
    }
   ],
   "source": [
    "# {word: frequency}\n",
    "# Removing punctuation\n",
    "# Removing symbols\n",
    "# all lower case\n",
    "\n",
    "word_freq = {}\n",
    "\n",
    "for i in range(5):\n",
    "    one_title_list = pedals['title'][i].lower().split()\n",
    "    print(full_title(one_title_list))\n"
   ]
  },
  {
   "cell_type": "code",
   "execution_count": 110,
   "metadata": {},
   "outputs": [],
   "source": [
    "# Removing punctuations from every title\n",
    "import string\n",
    "pedals_titles = []\n",
    "for i in range(len(pedals['title'])):\n",
    "    words = pedals['title'][i].lower().split()\n",
    "\n",
    "    words = [''.join(letter for letter in word if letter not in string.punctuation) for word in words]\n",
    "    pedals_titles.append(words)"
   ]
  },
  {
   "cell_type": "code",
   "execution_count": 120,
   "metadata": {},
   "outputs": [],
   "source": [
    "# {word: frequency}\n",
    "# Removing punctuation\n",
    "# Removing symbols\n",
    "# all lower case\n",
    "\n",
    "word_freq_title = {}\n",
    "\n",
    "for title in range(len(pedals_titles)):\n",
    "    for word in pedals_titles[title]:\n",
    "        if word not in word_freq_title:\n",
    "            word_freq_title[word] = 0\n",
    "        word_freq_title[word] += 1"
   ]
  },
  {
   "cell_type": "code",
   "execution_count": 123,
   "metadata": {},
   "outputs": [
    {
     "data": {
      "text/plain": [
       "{'this': 103,\n",
       " 'is': 99,\n",
       " 'how': 18,\n",
       " 'it': 87,\n",
       " 'looks': 2,\n",
       " 'like': 29,\n",
       " 'seconds': 1,\n",
       " 'before': 8,\n",
       " 'running': 2,\n",
       " 'to': 146}"
      ]
     },
     "execution_count": 123,
     "metadata": {},
     "output_type": "execute_result"
    }
   ],
   "source": [
    "#First 10 k:v in dict\n",
    "dict(list(word_freq_title.items())[0: 10])"
   ]
  },
  {
   "cell_type": "code",
   "execution_count": 159,
   "metadata": {},
   "outputs": [
    {
     "data": {
      "text/plain": [
       "114"
      ]
     },
     "execution_count": 159,
     "metadata": {},
     "output_type": "execute_result"
    }
   ],
   "source": [
    "#Removing stop word\n",
    "stop_words = ['a','an','and','are','as','be','by','by',\t'for','from','has','he','in','is','it','its',\n",
    "\t'of','on','that','the',\t'to','was',\t'were','will','with','have','am', 'my', 'i', 'this', 'you', 'what', 'but']\n",
    "\n",
    "title_dict = {}\n",
    "for k, v in word_freq_title.items():\n",
    "    if k not in stop_words:\n",
    "        title_dict[k] = v\n",
    "title_dict.pop('')"
   ]
  },
  {
   "cell_type": "code",
   "execution_count": 176,
   "metadata": {},
   "outputs": [
    {
     "data": {
      "text/plain": [
       "[(193, 'board'),\n",
       " (182, 'npd'),\n",
       " (133, 'pedal'),\n",
       " (104, 'pedalboard'),\n",
       " (98, 'pedals'),\n",
       " (85, 'new'),\n",
       " (73, 'boss'),\n",
       " (63, 'first'),\n",
       " (41, 'one'),\n",
       " (41, 'finally')]"
      ]
     },
     "execution_count": 176,
     "metadata": {},
     "output_type": "execute_result"
    }
   ],
   "source": [
    "#Sorting descending to get most frequently used words in titles of posts. \n",
    "kv = ((value, key) for (key,value) in title_dict.items())\n",
    "sorted_title = sorted(kv, reverse=True)\n",
    "sorted_title[0:10]"
   ]
  },
  {
   "cell_type": "markdown",
   "metadata": {},
   "source": [
    "### Pandas"
   ]
  },
  {
   "cell_type": "code",
   "execution_count": 163,
   "metadata": {},
   "outputs": [],
   "source": [
    "#Pandas dataframe and analysis\n",
    "#First, title analysis. Which pedals/brands were mentioned the most? \n",
    "titles_df = pd.DataFrame(sorted_title)"
   ]
  },
  {
   "cell_type": "code",
   "execution_count": 174,
   "metadata": {},
   "outputs": [
    {
     "data": {
      "text/html": [
       "<div>\n",
       "<style scoped>\n",
       "    .dataframe tbody tr th:only-of-type {\n",
       "        vertical-align: middle;\n",
       "    }\n",
       "\n",
       "    .dataframe tbody tr th {\n",
       "        vertical-align: top;\n",
       "    }\n",
       "\n",
       "    .dataframe thead th {\n",
       "        text-align: right;\n",
       "    }\n",
       "</style>\n",
       "<table border=\"1\" class=\"dataframe\">\n",
       "  <thead>\n",
       "    <tr style=\"text-align: right;\">\n",
       "      <th></th>\n",
       "      <th>Word</th>\n",
       "      <th>Frequency</th>\n",
       "    </tr>\n",
       "  </thead>\n",
       "  <tbody>\n",
       "    <tr>\n",
       "      <th>0</th>\n",
       "      <td>board</td>\n",
       "      <td>193</td>\n",
       "    </tr>\n",
       "    <tr>\n",
       "      <th>1</th>\n",
       "      <td>npd</td>\n",
       "      <td>182</td>\n",
       "    </tr>\n",
       "    <tr>\n",
       "      <th>2</th>\n",
       "      <td>pedal</td>\n",
       "      <td>133</td>\n",
       "    </tr>\n",
       "    <tr>\n",
       "      <th>3</th>\n",
       "      <td>pedalboard</td>\n",
       "      <td>104</td>\n",
       "    </tr>\n",
       "    <tr>\n",
       "      <th>4</th>\n",
       "      <td>pedals</td>\n",
       "      <td>98</td>\n",
       "    </tr>\n",
       "  </tbody>\n",
       "</table>\n",
       "</div>"
      ],
      "text/plain": [
       "         Word  Frequency\n",
       "0       board        193\n",
       "1         npd        182\n",
       "2       pedal        133\n",
       "3  pedalboard        104\n",
       "4      pedals         98"
      ]
     },
     "execution_count": 174,
     "metadata": {},
     "output_type": "execute_result"
    }
   ],
   "source": [
    "columns_titles = [\"Word\",\"Frequency\"]\n",
    "titles_df = titles_df.reindex(columns=columns_titles)\n",
    "titles_df.head()"
   ]
  },
  {
   "cell_type": "code",
   "execution_count": 200,
   "metadata": {},
   "outputs": [
    {
     "data": {
      "text/plain": [
       "<AxesSubplot:xlabel='Word'>"
      ]
     },
     "execution_count": 200,
     "metadata": {},
     "output_type": "execute_result"
    },
    {
     "data": {
      "image/png": "[encoded data removed]",
      "text/plain": [
       "<Figure size 432x288 with 1 Axes>"
      ]
     },
     "metadata": {
      "needs_background": "light"
     },
     "output_type": "display_data"
    }
   ],
   "source": [
    "#Top 50 words mentioned\n",
    "title_50 = titles_df.iloc[0:50]\n",
    "title_50.plot(x = 'Word', y = 'Frequency', kind='bar')"
   ]
  },
  {
   "cell_type": "code",
   "execution_count": 213,
   "metadata": {},
   "outputs": [],
   "source": [
    "titles_df.to_csv(r'C:\\Users\\roast\\Desktop\\gp_title_freq.csv', index=False)"
   ]
  },
  {
   "cell_type": "markdown",
   "metadata": {},
   "source": [
    "### Pandas - Brand Mention Frequncy\n",
    "Top guitar pedal brands:\n",
    "\n",
    "BOSS,\n",
    "Strymon,\n",
    "Electro Harmonix (Electro-Harmonix, EHX),\n",
    "TC Electronic,\n",
    "Walrus Audio (Walrus),\n",
    "Eventide,\n",
    "DigiTech,\n",
    "Zoom,\n",
    "Earthquaker,\n",
    "Dunlop,\n",
    "Fender,\n",
    "MXR, Catalinbread,\n",
    "Donner, SubZero,\n",
    "Keeley, Behringer, Fulltone, Joyo, Mooer, Universal Audio, Pro Co Sound\n",
    "\n",
    "\n",
    "Klon Centaur - Most talked about"
   ]
  },
  {
   "cell_type": "code",
   "execution_count": 225,
   "metadata": {},
   "outputs": [],
   "source": [
    "pedal_brands = ['BOSS', 'Strymon', 'Electro', 'Harmonix', 'Electro-Harmonix', 'EHX', 'TC Electronic', \n",
    "'Walrus Audio', 'Walrus','Eventide','DigiTech','Zoom','Earthquaker','Dunlop',\n",
    "'Fender','MXR', 'Catalinbread','Donner', 'SubZero','Keeley', 'Behringer', 'Fulltone', \n",
    "'Joyo', 'Mooer', 'Universal' 'Audio', 'rat']\n",
    "\n",
    "#lower case\n",
    "for i in range(len(pedal_brands)):\n",
    "   pedal_brands[i] = pedal_brands[i].lower()"
   ]
  },
  {
   "cell_type": "code",
   "execution_count": 227,
   "metadata": {},
   "outputs": [
    {
     "name": "stdout",
     "output_type": "stream",
     "text": [
      "['boss', 'strymon', 'electro', 'harmonix', 'electro-harmonix', 'ehx', 'tc electronic', 'walrus audio', 'walrus', 'eventide', 'digitech', 'zoom', 'earthquaker', 'dunlop', 'fender', 'mxr', 'catalinbread', 'donner', 'subzero', 'keeley', 'behringer', 'fulltone', 'joyo', 'mooer', 'universalaudio', 'rat']\n"
     ]
    }
   ],
   "source": [
    "print(pedal_brands)"
   ]
  },
  {
   "cell_type": "code",
   "execution_count": null,
   "metadata": {},
   "outputs": [],
   "source": []
  }
 ],
 "metadata": {
  "interpreter": {
   "hash": "5957fb8699bb8ade38cc9fa17c52bb197a88ed995d3d5124add69fcd13f3a1c9"
  },
  "kernelspec": {
   "display_name": "Python 3.10.4 64-bit",
   "language": "python",
   "name": "python3"
  },
  "language_info": {
   "codemirror_mode": {
    "name": "ipython",
    "version": 3
   },
   "file_extension": ".py",
   "mimetype": "text/x-python",
   "name": "python",
   "nbconvert_exporter": "python",
   "pygments_lexer": "ipython3",
   "version": "3.10.4"
  },
  "orig_nbformat": 4
 },
 "nbformat": 4,
 "nbformat_minor": 2
}
