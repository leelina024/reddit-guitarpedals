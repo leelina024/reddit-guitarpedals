{
 "cells": [
  {
   "cell_type": "code",
   "execution_count": 2,
   "metadata": {},
   "outputs": [],
   "source": [
    "import pandas as pd\n",
    "import numpy as np\n",
    "import matplotlib\n",
    "import string"
   ]
  },
  {
   "cell_type": "code",
   "execution_count": 3,
   "metadata": {},
   "outputs": [],
   "source": [
    "pedals = pd.read_csv(r'C:\\Users\\roast\\Desktop\\reddit_guitarpedals_1000.csv')"
   ]
  },
  {
   "cell_type": "code",
   "execution_count": 4,
   "metadata": {},
   "outputs": [
    {
     "data": {
      "text/plain": [
       "Index(['subreddit', 'title', 'selftext', 'upvote_ratio', 'ups', 'downs',\n",
       "       'score', 'num_comments', 'created_utc', 'id', 'kind', 'url',\n",
       "       'thumbnail'],\n",
       "      dtype='object')"
      ]
     },
     "execution_count": 4,
     "metadata": {},
     "output_type": "execute_result"
    }
   ],
   "source": [
    "pedals.columns"
   ]
  },
  {
   "cell_type": "code",
   "execution_count": 5,
   "metadata": {},
   "outputs": [
    {
     "data": {
      "text/html": [
       "<div>\n",
       "<style scoped>\n",
       "    .dataframe tbody tr th:only-of-type {\n",
       "        vertical-align: middle;\n",
       "    }\n",
       "\n",
       "    .dataframe tbody tr th {\n",
       "        vertical-align: top;\n",
       "    }\n",
       "\n",
       "    .dataframe thead th {\n",
       "        text-align: right;\n",
       "    }\n",
       "</style>\n",
       "<table border=\"1\" class=\"dataframe\">\n",
       "  <thead>\n",
       "    <tr style=\"text-align: right;\">\n",
       "      <th></th>\n",
       "      <th>subreddit</th>\n",
       "      <th>title</th>\n",
       "      <th>selftext</th>\n",
       "      <th>upvote_ratio</th>\n",
       "      <th>ups</th>\n",
       "      <th>downs</th>\n",
       "      <th>score</th>\n",
       "      <th>num_comments</th>\n",
       "      <th>created_utc</th>\n",
       "      <th>id</th>\n",
       "      <th>kind</th>\n",
       "      <th>url</th>\n",
       "      <th>thumbnail</th>\n",
       "    </tr>\n",
       "  </thead>\n",
       "  <tbody>\n",
       "    <tr>\n",
       "      <th>0</th>\n",
       "      <td>guitarpedals</td>\n",
       "      <td>First Pedalboard (reconfigured) I redistribute...</td>\n",
       "      <td>NaN</td>\n",
       "      <td>1.00</td>\n",
       "      <td>2</td>\n",
       "      <td>0</td>\n",
       "      <td>2</td>\n",
       "      <td>2</td>\n",
       "      <td>06/12/2022 17:21:49</td>\n",
       "      <td>vavtca</td>\n",
       "      <td>t3</td>\n",
       "      <td>https://i.redd.it/aqc85ox2c9591.png</td>\n",
       "      <td>https://a.thumbs.redditmedia.com/4lQdyYjEWH_da...</td>\n",
       "    </tr>\n",
       "    <tr>\n",
       "      <th>1</th>\n",
       "      <td>guitarpedals</td>\n",
       "      <td>never really listened to Calvin Harris but I l...</td>\n",
       "      <td>NaN</td>\n",
       "      <td>1.00</td>\n",
       "      <td>1</td>\n",
       "      <td>0</td>\n",
       "      <td>1</td>\n",
       "      <td>1</td>\n",
       "      <td>06/12/2022 17:18:47</td>\n",
       "      <td>vavr2d</td>\n",
       "      <td>t3</td>\n",
       "      <td>https://youtu.be/FFV6t4Dl_zQ</td>\n",
       "      <td>https://a.thumbs.redditmedia.com/75IxJ6tQug7hZ...</td>\n",
       "    </tr>\n",
       "    <tr>\n",
       "      <th>2</th>\n",
       "      <td>guitarpedals</td>\n",
       "      <td>Boss RC-300 Loop Pedals no longer working?</td>\n",
       "      <td>Hello Everyone,\\n\\nI've owned a Boss RC-300 pe...</td>\n",
       "      <td>0.67</td>\n",
       "      <td>1</td>\n",
       "      <td>0</td>\n",
       "      <td>1</td>\n",
       "      <td>1</td>\n",
       "      <td>06/12/2022 16:59:31</td>\n",
       "      <td>vavc8h</td>\n",
       "      <td>t3</td>\n",
       "      <td>https://www.reddit.com/r/guitarpedals/comments...</td>\n",
       "      <td>self</td>\n",
       "    </tr>\n",
       "    <tr>\n",
       "      <th>3</th>\n",
       "      <td>guitarpedals</td>\n",
       "      <td>What’s your favorite effect??</td>\n",
       "      <td>Mine’s the Wah</td>\n",
       "      <td>0.67</td>\n",
       "      <td>2</td>\n",
       "      <td>0</td>\n",
       "      <td>2</td>\n",
       "      <td>23</td>\n",
       "      <td>06/12/2022 16:24:51</td>\n",
       "      <td>vauluw</td>\n",
       "      <td>t3</td>\n",
       "      <td>https://www.reddit.com/r/guitarpedals/comments...</td>\n",
       "      <td>self</td>\n",
       "    </tr>\n",
       "    <tr>\n",
       "      <th>4</th>\n",
       "      <td>guitarpedals</td>\n",
       "      <td>Help me decide which pedal to get</td>\n",
       "      <td>Hey guys I need your help deciding if I should...</td>\n",
       "      <td>0.81</td>\n",
       "      <td>3</td>\n",
       "      <td>0</td>\n",
       "      <td>3</td>\n",
       "      <td>8</td>\n",
       "      <td>06/12/2022 16:18:58</td>\n",
       "      <td>vauhff</td>\n",
       "      <td>t3</td>\n",
       "      <td>https://www.reddit.com/r/guitarpedals/comments...</td>\n",
       "      <td>self</td>\n",
       "    </tr>\n",
       "  </tbody>\n",
       "</table>\n",
       "</div>"
      ],
      "text/plain": [
       "      subreddit                                              title  \\\n",
       "0  guitarpedals  First Pedalboard (reconfigured) I redistribute...   \n",
       "1  guitarpedals  never really listened to Calvin Harris but I l...   \n",
       "2  guitarpedals         Boss RC-300 Loop Pedals no longer working?   \n",
       "3  guitarpedals                      What’s your favorite effect??   \n",
       "4  guitarpedals                  Help me decide which pedal to get   \n",
       "\n",
       "                                            selftext  upvote_ratio  ups  \\\n",
       "0                                                NaN          1.00    2   \n",
       "1                                                NaN          1.00    1   \n",
       "2  Hello Everyone,\\n\\nI've owned a Boss RC-300 pe...          0.67    1   \n",
       "3                                     Mine’s the Wah          0.67    2   \n",
       "4  Hey guys I need your help deciding if I should...          0.81    3   \n",
       "\n",
       "   downs  score  num_comments          created_utc      id kind  \\\n",
       "0      0      2             2  06/12/2022 17:21:49  vavtca   t3   \n",
       "1      0      1             1  06/12/2022 17:18:47  vavr2d   t3   \n",
       "2      0      1             1  06/12/2022 16:59:31  vavc8h   t3   \n",
       "3      0      2            23  06/12/2022 16:24:51  vauluw   t3   \n",
       "4      0      3             8  06/12/2022 16:18:58  vauhff   t3   \n",
       "\n",
       "                                                 url  \\\n",
       "0                https://i.redd.it/aqc85ox2c9591.png   \n",
       "1                       https://youtu.be/FFV6t4Dl_zQ   \n",
       "2  https://www.reddit.com/r/guitarpedals/comments...   \n",
       "3  https://www.reddit.com/r/guitarpedals/comments...   \n",
       "4  https://www.reddit.com/r/guitarpedals/comments...   \n",
       "\n",
       "                                           thumbnail  \n",
       "0  https://a.thumbs.redditmedia.com/4lQdyYjEWH_da...  \n",
       "1  https://a.thumbs.redditmedia.com/75IxJ6tQug7hZ...  \n",
       "2                                               self  \n",
       "3                                               self  \n",
       "4                                               self  "
      ]
     },
     "execution_count": 5,
     "metadata": {},
     "output_type": "execute_result"
    }
   ],
   "source": [
    "pedals.head(5)"
   ]
  },
  {
   "cell_type": "code",
   "execution_count": 6,
   "metadata": {},
   "outputs": [
    {
     "name": "stdout",
     "output_type": "stream",
     "text": [
      "<class 'pandas.core.frame.DataFrame'>\n",
      "RangeIndex: 994 entries, 0 to 993\n",
      "Data columns (total 13 columns):\n",
      " #   Column        Non-Null Count  Dtype         \n",
      "---  ------        --------------  -----         \n",
      " 0   subreddit     994 non-null    object        \n",
      " 1   title         994 non-null    object        \n",
      " 2   selftext      467 non-null    object        \n",
      " 3   upvote_ratio  994 non-null    float64       \n",
      " 4   ups           994 non-null    int64         \n",
      " 5   downs         994 non-null    int64         \n",
      " 6   score         994 non-null    int64         \n",
      " 7   num_comments  994 non-null    int64         \n",
      " 8   created_utc   994 non-null    datetime64[ns]\n",
      " 9   id            994 non-null    object        \n",
      " 10  kind          994 non-null    object        \n",
      " 11  url           994 non-null    object        \n",
      " 12  thumbnail     994 non-null    object        \n",
      "dtypes: datetime64[ns](1), float64(1), int64(4), object(7)\n",
      "memory usage: 101.1+ KB\n"
     ]
    }
   ],
   "source": [
    "#Changing dtypes of all columns\n",
    "pedals['created_utc'] = pd.to_datetime(pedals['created_utc'])\n",
    "pedals.info()"
   ]
  },
  {
   "cell_type": "code",
   "execution_count": 7,
   "metadata": {},
   "outputs": [],
   "source": [
    "# Removing punctuations from every title\n",
    "pedals_titles = []\n",
    "for i in range(len(pedals['title'])):\n",
    "    words = pedals['title'][i].lower().split()\n",
    "\n",
    "    words = [''.join(letter for letter in word if letter not in string.punctuation) for word in words]\n",
    "    pedals_titles.append(words)\n",
    "\n",
    "#Doing same for selftext\n",
    "selftext_wordlist = []\n",
    "for i in range(len(pedals['selftext'])):\n",
    "    if(type(pedals['selftext'][i]) == str):\n",
    "        words = pedals['selftext'][i].lower().split()\n",
    "\n",
    "        words = [''.join(letter for letter in word if letter not in string.punctuation) for word in words]\n",
    "        selftext_wordlist.append(words)"
   ]
  },
  {
   "cell_type": "code",
   "execution_count": 8,
   "metadata": {},
   "outputs": [],
   "source": [
    "# {word: frequency}\n",
    "# Removing punctuation\n",
    "# Removing symbols\n",
    "# all lower case\n",
    "\n",
    "word_freq_title = {}\n",
    "word_freq_selftext = {}\n",
    "\n",
    "for title in range(len(pedals_titles)):\n",
    "    for word in pedals_titles[title]:\n",
    "        if word not in word_freq_title:\n",
    "            word_freq_title[word] = 0\n",
    "        word_freq_title[word] += 1\n",
    "\n",
    "for title in range(len(selftext_wordlist)):\n",
    "    for word in selftext_wordlist[title]:\n",
    "        if word not in word_freq_selftext:\n",
    "            word_freq_selftext[word] = 0\n",
    "        word_freq_selftext[word] += 1"
   ]
  },
  {
   "cell_type": "code",
   "execution_count": 9,
   "metadata": {},
   "outputs": [
    {
     "data": {
      "text/plain": [
       "{'first': 46,\n",
       " 'pedalboard': 59,\n",
       " 'reconfigured': 1,\n",
       " 'i': 138,\n",
       " 'redistributed': 1}"
      ]
     },
     "execution_count": 9,
     "metadata": {},
     "output_type": "execute_result"
    }
   ],
   "source": [
    "#First 10 k:v in title dict\n",
    "dict(list(word_freq_title.items())[0: 5])"
   ]
  },
  {
   "cell_type": "code",
   "execution_count": 10,
   "metadata": {},
   "outputs": [
    {
     "data": {
      "text/plain": [
       "{'hello': 12, 'everyone': 17, 'ive': 94, 'owned': 11, 'a': 1477}"
      ]
     },
     "execution_count": 10,
     "metadata": {},
     "output_type": "execute_result"
    }
   ],
   "source": [
    "#First 10 k:v in selftext dict\n",
    "dict(list(word_freq_selftext.items())[0: 5])"
   ]
  },
  {
   "cell_type": "code",
   "execution_count": 11,
   "metadata": {},
   "outputs": [
    {
     "data": {
      "text/plain": [
       "123"
      ]
     },
     "execution_count": 11,
     "metadata": {},
     "output_type": "execute_result"
    }
   ],
   "source": [
    "#Removing stop word\n",
    "stop_words = ['a','an','and','are','as','be','by','by',\t'for','from','has','he','in','is','it','its',\n",
    "\t'of','on','that','the',\t'to','was',\t'were','will','with','have','am', 'my', 'i', 'this', 'you', 'what', \n",
    "    'but', 'or', 'do', 'can']\n",
    "\n",
    "title_dict = {}\n",
    "for k, v in word_freq_title.items():\n",
    "    if k not in stop_words:\n",
    "        title_dict[k] = v\n",
    "title_dict.pop('') #removing ' ' blank in title dict"
   ]
  },
  {
   "cell_type": "code",
   "execution_count": 12,
   "metadata": {},
   "outputs": [
    {
     "data": {
      "text/plain": [
       "255"
      ]
     },
     "execution_count": 12,
     "metadata": {},
     "output_type": "execute_result"
    }
   ],
   "source": [
    "selftext_dict = {}\n",
    "for k, v in word_freq_selftext.items():\n",
    "    if k not in stop_words:\n",
    "        selftext_dict[k] = v\n",
    "selftext_dict.pop('') #removing ' ' blank in selftext dict"
   ]
  },
  {
   "cell_type": "code",
   "execution_count": 13,
   "metadata": {},
   "outputs": [
    {
     "data": {
      "text/plain": [
       "[(199, 'pedal'), (160, 'npd'), (117, 'board'), (103, 'pedals'), (62, 'boss')]"
      ]
     },
     "execution_count": 13,
     "metadata": {},
     "output_type": "execute_result"
    }
   ],
   "source": [
    "# Sorting the title_freq for later\n",
    "kv = ((value, key) for (key,value) in title_dict.items())\n",
    "sorted_title = sorted(kv, reverse=True)\n",
    "sorted_title[0:5]"
   ]
  },
  {
   "cell_type": "code",
   "execution_count": 14,
   "metadata": {},
   "outputs": [
    {
     "data": {
      "text/plain": [
       "[(452, 'pedal'), (297, 'pedals'), (286, 'so'), (250, 'like'), (232, 'im')]"
      ]
     },
     "execution_count": 14,
     "metadata": {},
     "output_type": "execute_result"
    }
   ],
   "source": [
    "# Sorting the selftext_freq for later\n",
    "kv = ((value, key) for (key,value) in selftext_dict.items())\n",
    "sorted_title = sorted(kv, reverse=True)\n",
    "sorted_title[0:5]"
   ]
  },
  {
   "cell_type": "code",
   "execution_count": 15,
   "metadata": {},
   "outputs": [
    {
     "data": {
      "text/html": [
       "<div>\n",
       "<style scoped>\n",
       "    .dataframe tbody tr th:only-of-type {\n",
       "        vertical-align: middle;\n",
       "    }\n",
       "\n",
       "    .dataframe tbody tr th {\n",
       "        vertical-align: top;\n",
       "    }\n",
       "\n",
       "    .dataframe thead th {\n",
       "        text-align: right;\n",
       "    }\n",
       "</style>\n",
       "<table border=\"1\" class=\"dataframe\">\n",
       "  <thead>\n",
       "    <tr style=\"text-align: right;\">\n",
       "      <th></th>\n",
       "      <th>Frequency</th>\n",
       "    </tr>\n",
       "    <tr>\n",
       "      <th>Word</th>\n",
       "      <th></th>\n",
       "    </tr>\n",
       "  </thead>\n",
       "  <tbody>\n",
       "    <tr>\n",
       "      <th>first</th>\n",
       "      <td>46</td>\n",
       "    </tr>\n",
       "    <tr>\n",
       "      <th>pedalboard</th>\n",
       "      <td>59</td>\n",
       "    </tr>\n",
       "    <tr>\n",
       "      <th>reconfigured</th>\n",
       "      <td>1</td>\n",
       "    </tr>\n",
       "    <tr>\n",
       "      <th>redistributed</th>\n",
       "      <td>1</td>\n",
       "    </tr>\n",
       "    <tr>\n",
       "      <th>pedals</th>\n",
       "      <td>103</td>\n",
       "    </tr>\n",
       "  </tbody>\n",
       "</table>\n",
       "</div>"
      ],
      "text/plain": [
       "               Frequency\n",
       "Word                    \n",
       "first                 46\n",
       "pedalboard            59\n",
       "reconfigured           1\n",
       "redistributed          1\n",
       "pedals               103"
      ]
     },
     "execution_count": 15,
     "metadata": {},
     "output_type": "execute_result"
    }
   ],
   "source": [
    "#Title word freq df\n",
    "title_df = pd.DataFrame(title_dict.values(), index=title_dict.keys(), columns=['Frequency'])\n",
    "title_df.index.name = 'Word'\n",
    "title_df.head()"
   ]
  },
  {
   "cell_type": "code",
   "execution_count": 16,
   "metadata": {},
   "outputs": [
    {
     "data": {
      "text/html": [
       "<div>\n",
       "<style scoped>\n",
       "    .dataframe tbody tr th:only-of-type {\n",
       "        vertical-align: middle;\n",
       "    }\n",
       "\n",
       "    .dataframe tbody tr th {\n",
       "        vertical-align: top;\n",
       "    }\n",
       "\n",
       "    .dataframe thead th {\n",
       "        text-align: right;\n",
       "    }\n",
       "</style>\n",
       "<table border=\"1\" class=\"dataframe\">\n",
       "  <thead>\n",
       "    <tr style=\"text-align: right;\">\n",
       "      <th></th>\n",
       "      <th>Frequency</th>\n",
       "    </tr>\n",
       "    <tr>\n",
       "      <th>Word</th>\n",
       "      <th></th>\n",
       "    </tr>\n",
       "  </thead>\n",
       "  <tbody>\n",
       "    <tr>\n",
       "      <th>hello</th>\n",
       "      <td>12</td>\n",
       "    </tr>\n",
       "    <tr>\n",
       "      <th>everyone</th>\n",
       "      <td>17</td>\n",
       "    </tr>\n",
       "    <tr>\n",
       "      <th>ive</th>\n",
       "      <td>94</td>\n",
       "    </tr>\n",
       "    <tr>\n",
       "      <th>owned</th>\n",
       "      <td>11</td>\n",
       "    </tr>\n",
       "    <tr>\n",
       "      <th>boss</th>\n",
       "      <td>87</td>\n",
       "    </tr>\n",
       "  </tbody>\n",
       "</table>\n",
       "</div>"
      ],
      "text/plain": [
       "          Frequency\n",
       "Word               \n",
       "hello            12\n",
       "everyone         17\n",
       "ive              94\n",
       "owned            11\n",
       "boss             87"
      ]
     },
     "execution_count": 16,
     "metadata": {},
     "output_type": "execute_result"
    }
   ],
   "source": [
    "#Selftext word freq df\n",
    "selftext_df = pd.DataFrame(selftext_dict.values(), index=selftext_dict.keys(), columns=['Frequency'])\n",
    "selftext_df.index.name = 'Word'\n",
    "selftext_df.head()"
   ]
  },
  {
   "cell_type": "code",
   "execution_count": 17,
   "metadata": {},
   "outputs": [
    {
     "name": "stdout",
     "output_type": "stream",
     "text": [
      "<class 'pandas.core.frame.DataFrame'>\n",
      "Index: 1690 entries, first to boosts\n",
      "Data columns (total 2 columns):\n",
      " #   Column       Non-Null Count  Dtype\n",
      "---  ------       --------------  -----\n",
      " 0   Frequency_x  1690 non-null   int64\n",
      " 1   Frequency_y  1690 non-null   int64\n",
      "dtypes: int64(2)\n",
      "memory usage: 39.6+ KB\n"
     ]
    }
   ],
   "source": [
    "merged = pd.merge(title_df, selftext_df, left_index=True, right_index=True)\n",
    "merged.info()"
   ]
  },
  {
   "cell_type": "code",
   "execution_count": 18,
   "metadata": {},
   "outputs": [
    {
     "name": "stderr",
     "output_type": "stream",
     "text": [
      "C:\\Users\\roast\\AppData\\Local\\Temp\\ipykernel_24940\\2355921377.py:2: FutureWarning: In a future version of pandas all arguments of DataFrame.drop except for the argument 'labels' will be keyword-only.\n",
      "  word_freq = merged.drop(['Frequency_x', 'Frequency_y'], 1)\n"
     ]
    }
   ],
   "source": [
    "merged['Frequency'] = merged['Frequency_x'] + merged['Frequency_y']\n",
    "word_freq = merged.drop(['Frequency_x', 'Frequency_y'], 1)"
   ]
  },
  {
   "cell_type": "code",
   "execution_count": 19,
   "metadata": {},
   "outputs": [
    {
     "data": {
      "text/html": [
       "<div>\n",
       "<style scoped>\n",
       "    .dataframe tbody tr th:only-of-type {\n",
       "        vertical-align: middle;\n",
       "    }\n",
       "\n",
       "    .dataframe tbody tr th {\n",
       "        vertical-align: top;\n",
       "    }\n",
       "\n",
       "    .dataframe thead th {\n",
       "        text-align: right;\n",
       "    }\n",
       "</style>\n",
       "<table border=\"1\" class=\"dataframe\">\n",
       "  <thead>\n",
       "    <tr style=\"text-align: right;\">\n",
       "      <th></th>\n",
       "      <th>Frequency</th>\n",
       "    </tr>\n",
       "    <tr>\n",
       "      <th>Word</th>\n",
       "      <th></th>\n",
       "    </tr>\n",
       "  </thead>\n",
       "  <tbody>\n",
       "    <tr>\n",
       "      <th>first</th>\n",
       "      <td>101</td>\n",
       "    </tr>\n",
       "    <tr>\n",
       "      <th>pedalboard</th>\n",
       "      <td>97</td>\n",
       "    </tr>\n",
       "    <tr>\n",
       "      <th>pedals</th>\n",
       "      <td>400</td>\n",
       "    </tr>\n",
       "    <tr>\n",
       "      <th>based</th>\n",
       "      <td>14</td>\n",
       "    </tr>\n",
       "    <tr>\n",
       "      <th>advise</th>\n",
       "      <td>2</td>\n",
       "    </tr>\n",
       "  </tbody>\n",
       "</table>\n",
       "</div>"
      ],
      "text/plain": [
       "            Frequency\n",
       "Word                 \n",
       "first             101\n",
       "pedalboard         97\n",
       "pedals            400\n",
       "based              14\n",
       "advise              2"
      ]
     },
     "execution_count": 19,
     "metadata": {},
     "output_type": "execute_result"
    }
   ],
   "source": [
    "#Final, combined dataframe of word frequencies from both titles and self texts. \n",
    "word_freq.head()"
   ]
  },
  {
   "cell_type": "code",
   "execution_count": 20,
   "metadata": {},
   "outputs": [],
   "source": [
    "word_freq.to_csv(r'C:\\Users\\roast\\Desktop\\gp_title_freq.csv', index=True)"
   ]
  },
  {
   "cell_type": "markdown",
   "metadata": {},
   "source": [
    "### Pandas"
   ]
  },
  {
   "cell_type": "code",
   "execution_count": 21,
   "metadata": {},
   "outputs": [
    {
     "data": {
      "text/html": [
       "<div>\n",
       "<style scoped>\n",
       "    .dataframe tbody tr th:only-of-type {\n",
       "        vertical-align: middle;\n",
       "    }\n",
       "\n",
       "    .dataframe tbody tr th {\n",
       "        vertical-align: top;\n",
       "    }\n",
       "\n",
       "    .dataframe thead th {\n",
       "        text-align: right;\n",
       "    }\n",
       "</style>\n",
       "<table border=\"1\" class=\"dataframe\">\n",
       "  <thead>\n",
       "    <tr style=\"text-align: right;\">\n",
       "      <th></th>\n",
       "      <th>Frequency</th>\n",
       "    </tr>\n",
       "    <tr>\n",
       "      <th>Word</th>\n",
       "      <th></th>\n",
       "    </tr>\n",
       "  </thead>\n",
       "  <tbody>\n",
       "    <tr>\n",
       "      <th>pedal</th>\n",
       "      <td>651</td>\n",
       "    </tr>\n",
       "    <tr>\n",
       "      <th>pedals</th>\n",
       "      <td>400</td>\n",
       "    </tr>\n",
       "    <tr>\n",
       "      <th>so</th>\n",
       "      <td>302</td>\n",
       "    </tr>\n",
       "    <tr>\n",
       "      <th>like</th>\n",
       "      <td>276</td>\n",
       "    </tr>\n",
       "    <tr>\n",
       "      <th>im</th>\n",
       "      <td>246</td>\n",
       "    </tr>\n",
       "  </tbody>\n",
       "</table>\n",
       "</div>"
      ],
      "text/plain": [
       "        Frequency\n",
       "Word             \n",
       "pedal         651\n",
       "pedals        400\n",
       "so            302\n",
       "like          276\n",
       "im            246"
      ]
     },
     "execution_count": 21,
     "metadata": {},
     "output_type": "execute_result"
    }
   ],
   "source": [
    "#Pandas dataframe and analysis\n",
    "#First, title analysis. Which pedals/brands were mentioned the most? \n",
    "import matplotlib.pyplot as plt\n",
    "\n",
    "df_wordfreq = pd.DataFrame(word_freq, columns=['Frequency']).sort_values(by = 'Frequency', ascending=False)\n",
    "df_wordfreq.head()\n"
   ]
  },
  {
   "cell_type": "code",
   "execution_count": 22,
   "metadata": {},
   "outputs": [
    {
     "data": {
      "image/png": "[encoded data removed]",
      "text/plain": [
       "<Figure size 1080x504 with 1 Axes>"
      ]
     },
     "metadata": {
      "needs_background": "light"
     },
     "output_type": "display_data"
    }
   ],
   "source": [
    "#Top 50 words mentioned\n",
    "top_50 = df_wordfreq.iloc[0:50]\n",
    "y = top_50['Frequency']\n",
    "\n",
    "plt.xticks(fontsize = 14, rotation='vertical')\n",
    "plt.gcf().set_size_inches(15, 7)\n",
    "plt.plot(y, color = '#7eb54e',)\n",
    "plt.show()"
   ]
  },
  {
   "cell_type": "markdown",
   "metadata": {},
   "source": [
    "### Pandas - Brand Mention Frequncy"
   ]
  },
  {
   "cell_type": "code",
   "execution_count": 23,
   "metadata": {},
   "outputs": [],
   "source": [
    "pedal_brands = ['BOSS', 'Strymon', 'Electro', 'Harmonix', 'Electro-Harmonix', 'Electroharmonix', 'EHX', \n",
    "'TC Electronic', 'Walrus','Eventide','DigiTech','Zoom','Earthquaker','Jim','Dunlop',\n",
    "'Fender','MXR', 'Catalinbread','Donner', 'SubZero','Keeley', 'Behringer', 'Fulltone', \n",
    "'Joyo', 'Mooer', 'Universal', 'rat']\n",
    "\n",
    "#lower case\n",
    "for i in range(len(pedal_brands)):\n",
    "   pedal_brands[i] = pedal_brands[i].lower()"
   ]
  },
  {
   "cell_type": "code",
   "execution_count": 24,
   "metadata": {},
   "outputs": [
    {
     "name": "stdout",
     "output_type": "stream",
     "text": [
      "['boss', 'strymon', 'electro', 'harmonix', 'electro-harmonix', 'electroharmonix', 'ehx', 'tc electronic', 'walrus', 'eventide', 'digitech', 'zoom', 'earthquaker', 'jim', 'dunlop', 'fender', 'mxr', 'catalinbread', 'donner', 'subzero', 'keeley', 'behringer', 'fulltone', 'joyo', 'mooer', 'universal', 'rat']\n"
     ]
    }
   ],
   "source": [
    "print(pedal_brands)"
   ]
  },
  {
   "cell_type": "code",
   "execution_count": 25,
   "metadata": {},
   "outputs": [
    {
     "data": {
      "text/html": [
       "<div>\n",
       "<style scoped>\n",
       "    .dataframe tbody tr th:only-of-type {\n",
       "        vertical-align: middle;\n",
       "    }\n",
       "\n",
       "    .dataframe tbody tr th {\n",
       "        vertical-align: top;\n",
       "    }\n",
       "\n",
       "    .dataframe thead th {\n",
       "        text-align: right;\n",
       "    }\n",
       "</style>\n",
       "<table border=\"1\" class=\"dataframe\">\n",
       "  <thead>\n",
       "    <tr style=\"text-align: right;\">\n",
       "      <th></th>\n",
       "      <th>Frequency</th>\n",
       "    </tr>\n",
       "    <tr>\n",
       "      <th>Word</th>\n",
       "      <th></th>\n",
       "    </tr>\n",
       "  </thead>\n",
       "  <tbody>\n",
       "    <tr>\n",
       "      <th>boss</th>\n",
       "      <td>149</td>\n",
       "    </tr>\n",
       "    <tr>\n",
       "      <th>mxr</th>\n",
       "      <td>48</td>\n",
       "    </tr>\n",
       "    <tr>\n",
       "      <th>ehx</th>\n",
       "      <td>45</td>\n",
       "    </tr>\n",
       "    <tr>\n",
       "      <th>strymon</th>\n",
       "      <td>44</td>\n",
       "    </tr>\n",
       "    <tr>\n",
       "      <th>fender</th>\n",
       "      <td>30</td>\n",
       "    </tr>\n",
       "    <tr>\n",
       "      <th>walrus</th>\n",
       "      <td>27</td>\n",
       "    </tr>\n",
       "    <tr>\n",
       "      <th>digitech</th>\n",
       "      <td>24</td>\n",
       "    </tr>\n",
       "    <tr>\n",
       "      <th>behringer</th>\n",
       "      <td>24</td>\n",
       "    </tr>\n",
       "    <tr>\n",
       "      <th>zoom</th>\n",
       "      <td>21</td>\n",
       "    </tr>\n",
       "    <tr>\n",
       "      <th>rat</th>\n",
       "      <td>21</td>\n",
       "    </tr>\n",
       "    <tr>\n",
       "      <th>joyo</th>\n",
       "      <td>20</td>\n",
       "    </tr>\n",
       "    <tr>\n",
       "      <th>mooer</th>\n",
       "      <td>20</td>\n",
       "    </tr>\n",
       "    <tr>\n",
       "      <th>keeley</th>\n",
       "      <td>17</td>\n",
       "    </tr>\n",
       "    <tr>\n",
       "      <th>earthquaker</th>\n",
       "      <td>9</td>\n",
       "    </tr>\n",
       "    <tr>\n",
       "      <th>fulltone</th>\n",
       "      <td>8</td>\n",
       "    </tr>\n",
       "    <tr>\n",
       "      <th>electro</th>\n",
       "      <td>6</td>\n",
       "    </tr>\n",
       "    <tr>\n",
       "      <th>harmonix</th>\n",
       "      <td>4</td>\n",
       "    </tr>\n",
       "    <tr>\n",
       "      <th>electroharmonix</th>\n",
       "      <td>4</td>\n",
       "    </tr>\n",
       "    <tr>\n",
       "      <th>dunlop</th>\n",
       "      <td>3</td>\n",
       "    </tr>\n",
       "    <tr>\n",
       "      <th>eventide</th>\n",
       "      <td>2</td>\n",
       "    </tr>\n",
       "  </tbody>\n",
       "</table>\n",
       "</div>"
      ],
      "text/plain": [
       "                 Frequency\n",
       "Word                      \n",
       "boss                   149\n",
       "mxr                     48\n",
       "ehx                     45\n",
       "strymon                 44\n",
       "fender                  30\n",
       "walrus                  27\n",
       "digitech                24\n",
       "behringer               24\n",
       "zoom                    21\n",
       "rat                     21\n",
       "joyo                    20\n",
       "mooer                   20\n",
       "keeley                  17\n",
       "earthquaker              9\n",
       "fulltone                 8\n",
       "electro                  6\n",
       "harmonix                 4\n",
       "electroharmonix          4\n",
       "dunlop                   3\n",
       "eventide                 2"
      ]
     },
     "execution_count": 25,
     "metadata": {},
     "output_type": "execute_result"
    }
   ],
   "source": [
    "#Most mentioned brands\n",
    "brand = df_wordfreq[df_wordfreq.index.isin(pedal_brands)]\n",
    "brand"
   ]
  },
  {
   "cell_type": "code",
   "execution_count": 41,
   "metadata": {},
   "outputs": [],
   "source": [
    "votes_df = pedals[['upvote_ratio', 'ups', 'downs', 'score']]"
   ]
  },
  {
   "cell_type": "code",
   "execution_count": 42,
   "metadata": {},
   "outputs": [
    {
     "data": {
      "text/html": [
       "<div>\n",
       "<style scoped>\n",
       "    .dataframe tbody tr th:only-of-type {\n",
       "        vertical-align: middle;\n",
       "    }\n",
       "\n",
       "    .dataframe tbody tr th {\n",
       "        vertical-align: top;\n",
       "    }\n",
       "\n",
       "    .dataframe thead th {\n",
       "        text-align: right;\n",
       "    }\n",
       "</style>\n",
       "<table border=\"1\" class=\"dataframe\">\n",
       "  <thead>\n",
       "    <tr style=\"text-align: right;\">\n",
       "      <th></th>\n",
       "      <th>upvote_ratio</th>\n",
       "      <th>ups</th>\n",
       "      <th>downs</th>\n",
       "      <th>score</th>\n",
       "    </tr>\n",
       "  </thead>\n",
       "  <tbody>\n",
       "    <tr>\n",
       "      <th>0</th>\n",
       "      <td>1.00</td>\n",
       "      <td>2</td>\n",
       "      <td>0</td>\n",
       "      <td>2</td>\n",
       "    </tr>\n",
       "    <tr>\n",
       "      <th>1</th>\n",
       "      <td>1.00</td>\n",
       "      <td>1</td>\n",
       "      <td>0</td>\n",
       "      <td>1</td>\n",
       "    </tr>\n",
       "    <tr>\n",
       "      <th>2</th>\n",
       "      <td>0.67</td>\n",
       "      <td>1</td>\n",
       "      <td>0</td>\n",
       "      <td>1</td>\n",
       "    </tr>\n",
       "    <tr>\n",
       "      <th>3</th>\n",
       "      <td>0.67</td>\n",
       "      <td>2</td>\n",
       "      <td>0</td>\n",
       "      <td>2</td>\n",
       "    </tr>\n",
       "    <tr>\n",
       "      <th>4</th>\n",
       "      <td>0.81</td>\n",
       "      <td>3</td>\n",
       "      <td>0</td>\n",
       "      <td>3</td>\n",
       "    </tr>\n",
       "  </tbody>\n",
       "</table>\n",
       "</div>"
      ],
      "text/plain": [
       "   upvote_ratio  ups  downs  score\n",
       "0          1.00    2      0      2\n",
       "1          1.00    1      0      1\n",
       "2          0.67    1      0      1\n",
       "3          0.67    2      0      2\n",
       "4          0.81    3      0      3"
      ]
     },
     "execution_count": 42,
     "metadata": {},
     "output_type": "execute_result"
    }
   ],
   "source": [
    "votes_df.head()"
   ]
  },
  {
   "cell_type": "code",
   "execution_count": 68,
   "metadata": {},
   "outputs": [
    {
     "data": {
      "text/plain": [
       "upvote_ratio     0.860111\n",
       "ups             35.660966\n",
       "downs            0.000000\n",
       "score           35.660966\n",
       "dtype: float64"
      ]
     },
     "execution_count": 68,
     "metadata": {},
     "output_type": "execute_result"
    }
   ],
   "source": [
    "votes_df.mean()"
   ]
  },
  {
   "cell_type": "code",
   "execution_count": 145,
   "metadata": {},
   "outputs": [
    {
     "data": {
      "image/png": "[encoded data removed]",
      "text/plain": [
       "<Figure size 504x360 with 1 Axes>"
      ]
     },
     "metadata": {
      "needs_background": "light"
     },
     "output_type": "display_data"
    }
   ],
   "source": [
    "fig, axes = plt.subplots(nrows=1, ncols=1, figsize=(7, 5))\n",
    "ax = plt.boxplot(votes_df[['ups', 'score']], widths=(0.2, 0.2), \n",
    "                            showfliers=False, notch=True,vert=True, patch_artist=True)\n",
    "for median in ax['medians']:\n",
    "    median.set(color='green', linewidth=1.5)\n",
    "colors = ['pink', 'lightgreen']\n",
    "for bplot in ax:\n",
    "    for patch, color in zip(ax['boxes'], colors):\n",
    "        patch.set_facecolor(color)\n",
    "\n",
    "plt.title(\"r/guitarpedals Post Ups & Scores\") \n",
    "plt.grid(color = 'lightpink', linestyle = '--', linewidth = 0.5)\n",
    "plt.show()"
   ]
  },
  {
   "cell_type": "code",
   "execution_count": 152,
   "metadata": {},
   "outputs": [
    {
     "data": {
      "image/png": "[encoded data removed]",
      "text/plain": [
       "<Figure size 360x360 with 1 Axes>"
      ]
     },
     "metadata": {
      "needs_background": "light"
     },
     "output_type": "display_data"
    }
   ],
   "source": [
    "fig, axes = plt.subplots(nrows=1, ncols=1, figsize=(5, 5))\n",
    "ax = plt.boxplot(votes_df['upvote_ratio'], widths=(0.3), showfliers=False)\n",
    "\n",
    "plt.title(\"r/guitarpedals Post Upvote Ratio\") \n",
    "plt.grid(color = 'lightpink', linestyle = '--', linewidth = 0.5)\n",
    "plt.show()"
   ]
  },
  {
   "cell_type": "code",
   "execution_count": null,
   "metadata": {},
   "outputs": [],
   "source": []
  }
 ],
 "metadata": {
  "interpreter": {
   "hash": "5957fb8699bb8ade38cc9fa17c52bb197a88ed995d3d5124add69fcd13f3a1c9"
  },
  "kernelspec": {
   "display_name": "Python 3.10.4 64-bit",
   "language": "python",
   "name": "python3"
  },
  "language_info": {
   "codemirror_mode": {
    "name": "ipython",
    "version": 3
   },
   "file_extension": ".py",
   "mimetype": "text/x-python",
   "name": "python",
   "nbconvert_exporter": "python",
   "pygments_lexer": "ipython3",
   "version": "3.10.4"
  },
  "orig_nbformat": 4
 },
 "nbformat": 4,
 "nbformat_minor": 2
}
