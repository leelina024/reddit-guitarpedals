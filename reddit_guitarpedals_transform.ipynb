{
 "cells": [
  {
   "cell_type": "code",
   "execution_count": 14,
   "metadata": {},
   "outputs": [],
   "source": [
    "import pandas as pd\n",
    "import numpy as np\n",
    "import matplotlib"
   ]
  },
  {
   "cell_type": "code",
   "execution_count": 15,
   "metadata": {},
   "outputs": [],
   "source": [
    "pedals = pd.read_csv(r'C:\\Users\\roast\\Desktop\\reddit_guitarpedals_1000.csv')"
   ]
  },
  {
   "cell_type": "code",
   "execution_count": 16,
   "metadata": {},
   "outputs": [
    {
     "data": {
      "text/plain": [
       "Index(['subreddit', 'title', 'selftext', 'upvote_ratio', 'ups', 'downs',\n",
       "       'score', 'num_comments', 'created_utc', 'id', 'kind', 'url',\n",
       "       'thumbnail'],\n",
       "      dtype='object')"
      ]
     },
     "execution_count": 16,
     "metadata": {},
     "output_type": "execute_result"
    }
   ],
   "source": [
    "pedals.columns"
   ]
  },
  {
   "cell_type": "code",
   "execution_count": 17,
   "metadata": {},
   "outputs": [
    {
     "data": {
      "text/html": [
       "<div>\n",
       "<style scoped>\n",
       "    .dataframe tbody tr th:only-of-type {\n",
       "        vertical-align: middle;\n",
       "    }\n",
       "\n",
       "    .dataframe tbody tr th {\n",
       "        vertical-align: top;\n",
       "    }\n",
       "\n",
       "    .dataframe thead th {\n",
       "        text-align: right;\n",
       "    }\n",
       "</style>\n",
       "<table border=\"1\" class=\"dataframe\">\n",
       "  <thead>\n",
       "    <tr style=\"text-align: right;\">\n",
       "      <th></th>\n",
       "      <th>subreddit</th>\n",
       "      <th>title</th>\n",
       "      <th>selftext</th>\n",
       "      <th>upvote_ratio</th>\n",
       "      <th>ups</th>\n",
       "      <th>downs</th>\n",
       "      <th>score</th>\n",
       "      <th>num_comments</th>\n",
       "      <th>created_utc</th>\n",
       "      <th>id</th>\n",
       "      <th>kind</th>\n",
       "      <th>url</th>\n",
       "      <th>thumbnail</th>\n",
       "    </tr>\n",
       "  </thead>\n",
       "  <tbody>\n",
       "    <tr>\n",
       "      <th>0</th>\n",
       "      <td>guitarpedals</td>\n",
       "      <td>First Pedalboard (reconfigured) I redistribute...</td>\n",
       "      <td>NaN</td>\n",
       "      <td>1.00</td>\n",
       "      <td>2</td>\n",
       "      <td>0</td>\n",
       "      <td>2</td>\n",
       "      <td>2</td>\n",
       "      <td>06/12/2022 17:21:49</td>\n",
       "      <td>vavtca</td>\n",
       "      <td>t3</td>\n",
       "      <td>https://i.redd.it/aqc85ox2c9591.png</td>\n",
       "      <td>https://a.thumbs.redditmedia.com/4lQdyYjEWH_da...</td>\n",
       "    </tr>\n",
       "    <tr>\n",
       "      <th>1</th>\n",
       "      <td>guitarpedals</td>\n",
       "      <td>never really listened to Calvin Harris but I l...</td>\n",
       "      <td>NaN</td>\n",
       "      <td>1.00</td>\n",
       "      <td>1</td>\n",
       "      <td>0</td>\n",
       "      <td>1</td>\n",
       "      <td>1</td>\n",
       "      <td>06/12/2022 17:18:47</td>\n",
       "      <td>vavr2d</td>\n",
       "      <td>t3</td>\n",
       "      <td>https://youtu.be/FFV6t4Dl_zQ</td>\n",
       "      <td>https://a.thumbs.redditmedia.com/75IxJ6tQug7hZ...</td>\n",
       "    </tr>\n",
       "    <tr>\n",
       "      <th>2</th>\n",
       "      <td>guitarpedals</td>\n",
       "      <td>Boss RC-300 Loop Pedals no longer working?</td>\n",
       "      <td>Hello Everyone,\\n\\nI've owned a Boss RC-300 pe...</td>\n",
       "      <td>0.67</td>\n",
       "      <td>1</td>\n",
       "      <td>0</td>\n",
       "      <td>1</td>\n",
       "      <td>1</td>\n",
       "      <td>06/12/2022 16:59:31</td>\n",
       "      <td>vavc8h</td>\n",
       "      <td>t3</td>\n",
       "      <td>https://www.reddit.com/r/guitarpedals/comments...</td>\n",
       "      <td>self</td>\n",
       "    </tr>\n",
       "    <tr>\n",
       "      <th>3</th>\n",
       "      <td>guitarpedals</td>\n",
       "      <td>What’s your favorite effect??</td>\n",
       "      <td>Mine’s the Wah</td>\n",
       "      <td>0.67</td>\n",
       "      <td>2</td>\n",
       "      <td>0</td>\n",
       "      <td>2</td>\n",
       "      <td>23</td>\n",
       "      <td>06/12/2022 16:24:51</td>\n",
       "      <td>vauluw</td>\n",
       "      <td>t3</td>\n",
       "      <td>https://www.reddit.com/r/guitarpedals/comments...</td>\n",
       "      <td>self</td>\n",
       "    </tr>\n",
       "    <tr>\n",
       "      <th>4</th>\n",
       "      <td>guitarpedals</td>\n",
       "      <td>Help me decide which pedal to get</td>\n",
       "      <td>Hey guys I need your help deciding if I should...</td>\n",
       "      <td>0.81</td>\n",
       "      <td>3</td>\n",
       "      <td>0</td>\n",
       "      <td>3</td>\n",
       "      <td>8</td>\n",
       "      <td>06/12/2022 16:18:58</td>\n",
       "      <td>vauhff</td>\n",
       "      <td>t3</td>\n",
       "      <td>https://www.reddit.com/r/guitarpedals/comments...</td>\n",
       "      <td>self</td>\n",
       "    </tr>\n",
       "  </tbody>\n",
       "</table>\n",
       "</div>"
      ],
      "text/plain": [
       "      subreddit                                              title  \\\n",
       "0  guitarpedals  First Pedalboard (reconfigured) I redistribute...   \n",
       "1  guitarpedals  never really listened to Calvin Harris but I l...   \n",
       "2  guitarpedals         Boss RC-300 Loop Pedals no longer working?   \n",
       "3  guitarpedals                      What’s your favorite effect??   \n",
       "4  guitarpedals                  Help me decide which pedal to get   \n",
       "\n",
       "                                            selftext  upvote_ratio  ups  \\\n",
       "0                                                NaN          1.00    2   \n",
       "1                                                NaN          1.00    1   \n",
       "2  Hello Everyone,\\n\\nI've owned a Boss RC-300 pe...          0.67    1   \n",
       "3                                     Mine’s the Wah          0.67    2   \n",
       "4  Hey guys I need your help deciding if I should...          0.81    3   \n",
       "\n",
       "   downs  score  num_comments          created_utc      id kind  \\\n",
       "0      0      2             2  06/12/2022 17:21:49  vavtca   t3   \n",
       "1      0      1             1  06/12/2022 17:18:47  vavr2d   t3   \n",
       "2      0      1             1  06/12/2022 16:59:31  vavc8h   t3   \n",
       "3      0      2            23  06/12/2022 16:24:51  vauluw   t3   \n",
       "4      0      3             8  06/12/2022 16:18:58  vauhff   t3   \n",
       "\n",
       "                                                 url  \\\n",
       "0                https://i.redd.it/aqc85ox2c9591.png   \n",
       "1                       https://youtu.be/FFV6t4Dl_zQ   \n",
       "2  https://www.reddit.com/r/guitarpedals/comments...   \n",
       "3  https://www.reddit.com/r/guitarpedals/comments...   \n",
       "4  https://www.reddit.com/r/guitarpedals/comments...   \n",
       "\n",
       "                                           thumbnail  \n",
       "0  https://a.thumbs.redditmedia.com/4lQdyYjEWH_da...  \n",
       "1  https://a.thumbs.redditmedia.com/75IxJ6tQug7hZ...  \n",
       "2                                               self  \n",
       "3                                               self  \n",
       "4                                               self  "
      ]
     },
     "execution_count": 17,
     "metadata": {},
     "output_type": "execute_result"
    }
   ],
   "source": [
    "pedals.head()"
   ]
  },
  {
   "cell_type": "code",
   "execution_count": 18,
   "metadata": {},
   "outputs": [
    {
     "name": "stdout",
     "output_type": "stream",
     "text": [
      "<class 'pandas.core.frame.DataFrame'>\n",
      "RangeIndex: 994 entries, 0 to 993\n",
      "Data columns (total 13 columns):\n",
      " #   Column        Non-Null Count  Dtype         \n",
      "---  ------        --------------  -----         \n",
      " 0   subreddit     994 non-null    object        \n",
      " 1   title         994 non-null    object        \n",
      " 2   selftext      467 non-null    object        \n",
      " 3   upvote_ratio  994 non-null    float64       \n",
      " 4   ups           994 non-null    int64         \n",
      " 5   downs         994 non-null    int64         \n",
      " 6   score         994 non-null    int64         \n",
      " 7   num_comments  994 non-null    int64         \n",
      " 8   created_utc   994 non-null    datetime64[ns]\n",
      " 9   id            994 non-null    object        \n",
      " 10  kind          994 non-null    object        \n",
      " 11  url           994 non-null    object        \n",
      " 12  thumbnail     994 non-null    object        \n",
      "dtypes: datetime64[ns](1), float64(1), int64(4), object(7)\n",
      "memory usage: 101.1+ KB\n"
     ]
    }
   ],
   "source": [
    "#Changing dtypes of all columns\n",
    "pedals['created_utc'] = pd.to_datetime(pedals['created_utc'])\n",
    "pedals.info()"
   ]
  },
  {
   "cell_type": "code",
   "execution_count": 19,
   "metadata": {},
   "outputs": [],
   "source": [
    "# Removing punctuations from every title\n",
    "import string\n",
    "pedals_titles = []\n",
    "for i in range(len(pedals['title'])):\n",
    "    words = pedals['title'][i].lower().split()\n",
    "\n",
    "    words = [''.join(letter for letter in word if letter not in string.punctuation) for word in words]\n",
    "    pedals_titles.append(words)"
   ]
  },
  {
   "cell_type": "code",
   "execution_count": 20,
   "metadata": {},
   "outputs": [],
   "source": [
    "# {word: frequency}\n",
    "# Removing punctuation\n",
    "# Removing symbols\n",
    "# all lower case\n",
    "\n",
    "word_freq_title = {}\n",
    "\n",
    "for title in range(len(pedals_titles)):\n",
    "    for word in pedals_titles[title]:\n",
    "        if word not in word_freq_title:\n",
    "            word_freq_title[word] = 0\n",
    "        word_freq_title[word] += 1"
   ]
  },
  {
   "cell_type": "code",
   "execution_count": 22,
   "metadata": {},
   "outputs": [
    {
     "data": {
      "text/plain": [
       "{'first': 46,\n",
       " 'pedalboard': 59,\n",
       " 'reconfigured': 1,\n",
       " 'i': 138,\n",
       " 'redistributed': 1,\n",
       " 'my': 142,\n",
       " 'pedals': 103,\n",
       " 'based': 3,\n",
       " 'on': 86,\n",
       " 'advise': 1}"
      ]
     },
     "execution_count": 22,
     "metadata": {},
     "output_type": "execute_result"
    }
   ],
   "source": [
    "#First 10 k:v in dict\n",
    "dict(list(word_freq_title.items())[0: 10])"
   ]
  },
  {
   "cell_type": "code",
   "execution_count": 77,
   "metadata": {},
   "outputs": [
    {
     "data": {
      "text/plain": [
       "123"
      ]
     },
     "execution_count": 77,
     "metadata": {},
     "output_type": "execute_result"
    }
   ],
   "source": [
    "#Removing stop word\n",
    "stop_words = ['a','an','and','are','as','be','by','by',\t'for','from','has','he','in','is','it','its',\n",
    "\t'of','on','that','the',\t'to','was',\t'were','will','with','have','am', 'my', 'i', 'this', 'you', 'what', \n",
    "    'but', 'or', 'do', 'can']\n",
    "\n",
    "title_dict = {}\n",
    "for k, v in word_freq_title.items():\n",
    "    if k not in stop_words:\n",
    "        title_dict[k] = v\n",
    "title_dict.pop('') #removing ' ' blank in dict"
   ]
  },
  {
   "cell_type": "code",
   "execution_count": 101,
   "metadata": {},
   "outputs": [
    {
     "data": {
      "text/plain": [
       "[(199, 'pedal'), (160, 'npd'), (117, 'board'), (103, 'pedals'), (62, 'boss')]"
      ]
     },
     "execution_count": 101,
     "metadata": {},
     "output_type": "execute_result"
    }
   ],
   "source": [
    "# Sorting the frequency for \n",
    "kv = ((value, key) for (key,value) in title_dict.items())\n",
    "sorted_title = sorted(kv, reverse=True)\n",
    "sorted_title[0:5]"
   ]
  },
  {
   "cell_type": "code",
   "execution_count": 78,
   "metadata": {},
   "outputs": [
    {
     "data": {
      "text/plain": [
       "dict"
      ]
     },
     "execution_count": 78,
     "metadata": {},
     "output_type": "execute_result"
    }
   ],
   "source": [
    "type(title_dict)"
   ]
  },
  {
   "cell_type": "code",
   "execution_count": 80,
   "metadata": {},
   "outputs": [
    {
     "data": {
      "text/html": [
       "<div>\n",
       "<style scoped>\n",
       "    .dataframe tbody tr th:only-of-type {\n",
       "        vertical-align: middle;\n",
       "    }\n",
       "\n",
       "    .dataframe tbody tr th {\n",
       "        vertical-align: top;\n",
       "    }\n",
       "\n",
       "    .dataframe thead th {\n",
       "        text-align: right;\n",
       "    }\n",
       "</style>\n",
       "<table border=\"1\" class=\"dataframe\">\n",
       "  <thead>\n",
       "    <tr style=\"text-align: right;\">\n",
       "      <th></th>\n",
       "      <th>Frequency</th>\n",
       "    </tr>\n",
       "    <tr>\n",
       "      <th>Word</th>\n",
       "      <th></th>\n",
       "    </tr>\n",
       "  </thead>\n",
       "  <tbody>\n",
       "    <tr>\n",
       "      <th>first</th>\n",
       "      <td>46</td>\n",
       "    </tr>\n",
       "    <tr>\n",
       "      <th>pedalboard</th>\n",
       "      <td>59</td>\n",
       "    </tr>\n",
       "    <tr>\n",
       "      <th>reconfigured</th>\n",
       "      <td>1</td>\n",
       "    </tr>\n",
       "    <tr>\n",
       "      <th>redistributed</th>\n",
       "      <td>1</td>\n",
       "    </tr>\n",
       "    <tr>\n",
       "      <th>pedals</th>\n",
       "      <td>103</td>\n",
       "    </tr>\n",
       "  </tbody>\n",
       "</table>\n",
       "</div>"
      ],
      "text/plain": [
       "               Frequency\n",
       "Word                    \n",
       "first                 46\n",
       "pedalboard            59\n",
       "reconfigured           1\n",
       "redistributed          1\n",
       "pedals               103"
      ]
     },
     "execution_count": 80,
     "metadata": {},
     "output_type": "execute_result"
    }
   ],
   "source": [
    "title_df = pd.DataFrame(title_dict.values(), index=title_dict.keys(), columns=['Frequency'])\n",
    "title_df.index.name = 'Word'\n",
    "title_df.head()"
   ]
  },
  {
   "cell_type": "code",
   "execution_count": 81,
   "metadata": {},
   "outputs": [],
   "source": [
    "title_df.to_csv(r'C:\\Users\\roast\\Desktop\\gp_title_freq.csv', index=True)"
   ]
  },
  {
   "cell_type": "markdown",
   "metadata": {},
   "source": [
    "### Pandas"
   ]
  },
  {
   "cell_type": "code",
   "execution_count": 133,
   "metadata": {},
   "outputs": [
    {
     "data": {
      "text/html": [
       "<div>\n",
       "<style scoped>\n",
       "    .dataframe tbody tr th:only-of-type {\n",
       "        vertical-align: middle;\n",
       "    }\n",
       "\n",
       "    .dataframe tbody tr th {\n",
       "        vertical-align: top;\n",
       "    }\n",
       "\n",
       "    .dataframe thead th {\n",
       "        text-align: right;\n",
       "    }\n",
       "</style>\n",
       "<table border=\"1\" class=\"dataframe\">\n",
       "  <thead>\n",
       "    <tr style=\"text-align: right;\">\n",
       "      <th></th>\n",
       "      <th>Frequency</th>\n",
       "      <th>Word</th>\n",
       "    </tr>\n",
       "  </thead>\n",
       "  <tbody>\n",
       "    <tr>\n",
       "      <th>0</th>\n",
       "      <td>199</td>\n",
       "      <td>pedal</td>\n",
       "    </tr>\n",
       "    <tr>\n",
       "      <th>1</th>\n",
       "      <td>160</td>\n",
       "      <td>npd</td>\n",
       "    </tr>\n",
       "    <tr>\n",
       "      <th>2</th>\n",
       "      <td>117</td>\n",
       "      <td>board</td>\n",
       "    </tr>\n",
       "    <tr>\n",
       "      <th>3</th>\n",
       "      <td>103</td>\n",
       "      <td>pedals</td>\n",
       "    </tr>\n",
       "    <tr>\n",
       "      <th>4</th>\n",
       "      <td>62</td>\n",
       "      <td>boss</td>\n",
       "    </tr>\n",
       "  </tbody>\n",
       "</table>\n",
       "</div>"
      ],
      "text/plain": [
       "   Frequency    Word\n",
       "0        199   pedal\n",
       "1        160     npd\n",
       "2        117   board\n",
       "3        103  pedals\n",
       "4         62    boss"
      ]
     },
     "execution_count": 133,
     "metadata": {},
     "output_type": "execute_result"
    }
   ],
   "source": [
    "#Pandas dataframe and analysis\n",
    "#First, title analysis. Which pedals/brands were mentioned the most? \n",
    "import matplotlib.pyplot as plt\n",
    "\n",
    "df_title = pd.DataFrame(sorted_title, columns=['Frequency', 'Word'])\n",
    "df_title.head()\n"
   ]
  },
  {
   "cell_type": "code",
   "execution_count": 158,
   "metadata": {},
   "outputs": [
    {
     "data": {
      "image/png": "[encoded data removed]",
      "text/plain": [
       "<Figure size 1080x504 with 1 Axes>"
      ]
     },
     "metadata": {
      "needs_background": "light"
     },
     "output_type": "display_data"
    }
   ],
   "source": [
    "#Top 50 words mentioned\n",
    "title_50 = df_title.iloc[0:50]\n",
    "x = title_50['Word']\n",
    "y = title_50['Frequency']\n",
    "\n",
    "\n",
    "plt.xticks(fontsize = 12, rotation='vertical')\n",
    "plt.gcf().set_size_inches(15, 7)\n",
    "plt.bar(x,y, color = '#7eb54e')\n",
    "plt.show()\n"
   ]
  },
  {
   "cell_type": "markdown",
   "metadata": {},
   "source": [
    "### Pandas - Brand Mention Frequncy\n",
    "Top guitar pedal brands:\n",
    "\n",
    "BOSS,\n",
    "Strymon,\n",
    "Electro Harmonix (Electro-Harmonix, EHX),\n",
    "TC Electronic,\n",
    "Walrus Audio (Walrus),\n",
    "Eventide,\n",
    "DigiTech,\n",
    "Zoom,\n",
    "Earthquaker,\n",
    "Dunlop,\n",
    "Fender,\n",
    "MXR, Catalinbread,\n",
    "Donner, SubZero,\n",
    "Keeley, Behringer, Fulltone, Joyo, Mooer, Universal Audio, Pro Co Sound\n",
    "\n",
    "\n",
    "Klon Centaur - Most talked about"
   ]
  },
  {
   "cell_type": "code",
   "execution_count": 187,
   "metadata": {},
   "outputs": [],
   "source": [
    "pedal_brands = ['BOSS', 'Strymon', 'Electro', 'Harmonix', 'Electro-Harmonix', 'Electroharmonix', 'EHX', 'TC Electronic', \n",
    "'Walrus','Eventide','DigiTech','Zoom','Earthquaker','Jim','Dunlop',\n",
    "'Fender','MXR', 'Catalinbread','Donner', 'SubZero','Keeley', 'Behringer', 'Fulltone', \n",
    "'Joyo', 'Mooer', 'Universal', 'rat']\n",
    "\n",
    "#lower case\n",
    "for i in range(len(pedal_brands)):\n",
    "   pedal_brands[i] = pedal_brands[i].lower()"
   ]
  },
  {
   "cell_type": "code",
   "execution_count": 188,
   "metadata": {},
   "outputs": [
    {
     "name": "stdout",
     "output_type": "stream",
     "text": [
      "['boss', 'strymon', 'electro', 'harmonix', 'electro-harmonix', 'electroharmonix', 'ehx', 'tc electronic', 'walrus', 'eventide', 'digitech', 'zoom', 'earthquaker', 'jim', 'dunlop', 'fender', 'mxr', 'catalinbread', 'donner', 'subzero', 'keeley', 'behringer', 'fulltone', 'joyo', 'mooer', 'universal', 'rat']\n"
     ]
    }
   ],
   "source": [
    "print(pedal_brands)"
   ]
  },
  {
   "cell_type": "code",
   "execution_count": 192,
   "metadata": {},
   "outputs": [
    {
     "data": {
      "text/html": [
       "<div>\n",
       "<style scoped>\n",
       "    .dataframe tbody tr th:only-of-type {\n",
       "        vertical-align: middle;\n",
       "    }\n",
       "\n",
       "    .dataframe tbody tr th {\n",
       "        vertical-align: top;\n",
       "    }\n",
       "\n",
       "    .dataframe thead th {\n",
       "        text-align: right;\n",
       "    }\n",
       "</style>\n",
       "<table border=\"1\" class=\"dataframe\">\n",
       "  <thead>\n",
       "    <tr style=\"text-align: right;\">\n",
       "      <th></th>\n",
       "      <th>Frequency</th>\n",
       "    </tr>\n",
       "    <tr>\n",
       "      <th>Word</th>\n",
       "      <th></th>\n",
       "    </tr>\n",
       "  </thead>\n",
       "  <tbody>\n",
       "    <tr>\n",
       "      <th>boss</th>\n",
       "      <td>62</td>\n",
       "    </tr>\n",
       "    <tr>\n",
       "      <th>ehx</th>\n",
       "      <td>20</td>\n",
       "    </tr>\n",
       "    <tr>\n",
       "      <th>mxr</th>\n",
       "      <td>19</td>\n",
       "    </tr>\n",
       "    <tr>\n",
       "      <th>strymon</th>\n",
       "      <td>17</td>\n",
       "    </tr>\n",
       "    <tr>\n",
       "      <th>walrus</th>\n",
       "      <td>14</td>\n",
       "    </tr>\n",
       "    <tr>\n",
       "      <th>keeley</th>\n",
       "      <td>10</td>\n",
       "    </tr>\n",
       "    <tr>\n",
       "      <th>mooer</th>\n",
       "      <td>8</td>\n",
       "    </tr>\n",
       "    <tr>\n",
       "      <th>digitech</th>\n",
       "      <td>8</td>\n",
       "    </tr>\n",
       "    <tr>\n",
       "      <th>joyo</th>\n",
       "      <td>7</td>\n",
       "    </tr>\n",
       "    <tr>\n",
       "      <th>rat</th>\n",
       "      <td>6</td>\n",
       "    </tr>\n",
       "    <tr>\n",
       "      <th>behringer</th>\n",
       "      <td>5</td>\n",
       "    </tr>\n",
       "    <tr>\n",
       "      <th>zoom</th>\n",
       "      <td>4</td>\n",
       "    </tr>\n",
       "    <tr>\n",
       "      <th>fender</th>\n",
       "      <td>3</td>\n",
       "    </tr>\n",
       "    <tr>\n",
       "      <th>earthquaker</th>\n",
       "      <td>3</td>\n",
       "    </tr>\n",
       "    <tr>\n",
       "      <th>fulltone</th>\n",
       "      <td>2</td>\n",
       "    </tr>\n",
       "    <tr>\n",
       "      <th>electroharmonix</th>\n",
       "      <td>2</td>\n",
       "    </tr>\n",
       "    <tr>\n",
       "      <th>harmonix</th>\n",
       "      <td>1</td>\n",
       "    </tr>\n",
       "    <tr>\n",
       "      <th>eventide</th>\n",
       "      <td>1</td>\n",
       "    </tr>\n",
       "    <tr>\n",
       "      <th>electro</th>\n",
       "      <td>1</td>\n",
       "    </tr>\n",
       "    <tr>\n",
       "      <th>dunlop</th>\n",
       "      <td>1</td>\n",
       "    </tr>\n",
       "  </tbody>\n",
       "</table>\n",
       "</div>"
      ],
      "text/plain": [
       "                 Frequency\n",
       "Word                      \n",
       "boss                    62\n",
       "ehx                     20\n",
       "mxr                     19\n",
       "strymon                 17\n",
       "walrus                  14\n",
       "keeley                  10\n",
       "mooer                    8\n",
       "digitech                 8\n",
       "joyo                     7\n",
       "rat                      6\n",
       "behringer                5\n",
       "zoom                     4\n",
       "fender                   3\n",
       "earthquaker              3\n",
       "fulltone                 2\n",
       "electroharmonix          2\n",
       "harmonix                 1\n",
       "eventide                 1\n",
       "electro                  1\n",
       "dunlop                   1"
      ]
     },
     "execution_count": 192,
     "metadata": {},
     "output_type": "execute_result"
    }
   ],
   "source": [
    "#Most mentioned brands\n",
    "df_title[df_title['Word'].isin(pedal_brands)].set_index('Word')"
   ]
  },
  {
   "cell_type": "code",
   "execution_count": null,
   "metadata": {},
   "outputs": [],
   "source": []
  }
 ],
 "metadata": {
  "interpreter": {
   "hash": "5957fb8699bb8ade38cc9fa17c52bb197a88ed995d3d5124add69fcd13f3a1c9"
  },
  "kernelspec": {
   "display_name": "Python 3.10.4 64-bit",
   "language": "python",
   "name": "python3"
  },
  "language_info": {
   "codemirror_mode": {
    "name": "ipython",
    "version": 3
   },
   "file_extension": ".py",
   "mimetype": "text/x-python",
   "name": "python",
   "nbconvert_exporter": "python",
   "pygments_lexer": "ipython3",
   "version": "3.10.4"
  },
  "orig_nbformat": 4
 },
 "nbformat": 4,
 "nbformat_minor": 2
}
